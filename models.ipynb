{
 "cells": [
  {
   "cell_type": "markdown",
   "metadata": {},
   "source": [
    "# 1. Load data"
   ]
  },
  {
   "cell_type": "code",
   "execution_count": 96,
   "metadata": {},
   "outputs": [
    {
     "data": {
      "text/plain": [
       "Index(['CLIENTNUM', 'Attrition_Flag', 'Customer_Age', 'Gender',\n",
       "       'Dependent_count', 'Education_Level', 'Marital_Status',\n",
       "       'Income_Category', 'Card_Category', 'Months_on_book',\n",
       "       'Total_Relationship_Count', 'Months_Inactive_12_mon',\n",
       "       'Contacts_Count_12_mon', 'Credit_Limit', 'Total_Revolving_Bal',\n",
       "       'Avg_Open_To_Buy', 'Total_Amt_Chng_Q4_Q1', 'Total_Trans_Amt',\n",
       "       'Total_Trans_Ct', 'Total_Ct_Chng_Q4_Q1', 'Avg_Utilization_Ratio',\n",
       "       'Naive_Bayes_Classifier_Attrition_Flag_Card_Category_Contacts_Count_12_mon_Dependent_count_Education_Level_Months_Inactive_12_mon_1',\n",
       "       'Naive_Bayes_Classifier_Attrition_Flag_Card_Category_Contacts_Count_12_mon_Dependent_count_Education_Level_Months_Inactive_12_mon_2'],\n",
       "      dtype='object')"
      ]
     },
     "execution_count": 96,
     "metadata": {},
     "output_type": "execute_result"
    }
   ],
   "source": [
    "import pandas as pd\n",
    "\n",
    "df = pd.read_csv('assets/BankChurners.csv')\n",
    "\n",
    "df.columns"
   ]
  },
  {
   "cell_type": "markdown",
   "metadata": {},
   "source": [
    "# 2. Data Cleaning"
   ]
  },
  {
   "cell_type": "code",
   "execution_count": 97,
   "metadata": {},
   "outputs": [],
   "source": [
    "df.drop([\n",
    "    'Naive_Bayes_Classifier_Attrition_Flag_Card_Category_Contacts_Count_12_mon_Dependent_count_Education_Level_Months_Inactive_12_mon_1',\n",
    "    'Naive_Bayes_Classifier_Attrition_Flag_Card_Category_Contacts_Count_12_mon_Dependent_count_Education_Level_Months_Inactive_12_mon_2',\n",
    "    'CLIENTNUM'],\n",
    "    axis=1,\n",
    "    inplace=True)"
   ]
  },
  {
   "cell_type": "code",
   "execution_count": 98,
   "metadata": {},
   "outputs": [
    {
     "name": "stderr",
     "output_type": "stream",
     "text": [
      "/var/folders/cs/qccyz2cd7436ltgztlddjwlm0000gn/T/ipykernel_23684/1647084552.py:5: FutureWarning: Downcasting behavior in `replace` is deprecated and will be removed in a future version. To retain the old behavior, explicitly call `result.infer_objects(copy=False)`. To opt-in to the future behavior, set `pd.set_option('future.no_silent_downcasting', True)`\n",
      "  df['Education_Level'] = df['Education_Level'].replace(education_level)\n",
      "/var/folders/cs/qccyz2cd7436ltgztlddjwlm0000gn/T/ipykernel_23684/1647084552.py:8: FutureWarning: Downcasting behavior in `replace` is deprecated and will be removed in a future version. To retain the old behavior, explicitly call `result.infer_objects(copy=False)`. To opt-in to the future behavior, set `pd.set_option('future.no_silent_downcasting', True)`\n",
      "  df['Marital_Status'] = df['Marital_Status'].replace(marital_status)\n",
      "/var/folders/cs/qccyz2cd7436ltgztlddjwlm0000gn/T/ipykernel_23684/1647084552.py:14: FutureWarning: Downcasting behavior in `replace` is deprecated and will be removed in a future version. To retain the old behavior, explicitly call `result.infer_objects(copy=False)`. To opt-in to the future behavior, set `pd.set_option('future.no_silent_downcasting', True)`\n",
      "  df['Income_Category'] = df['Income_Category'].replace(income_category)\n",
      "/var/folders/cs/qccyz2cd7436ltgztlddjwlm0000gn/T/ipykernel_23684/1647084552.py:17: FutureWarning: Downcasting behavior in `replace` is deprecated and will be removed in a future version. To retain the old behavior, explicitly call `result.infer_objects(copy=False)`. To opt-in to the future behavior, set `pd.set_option('future.no_silent_downcasting', True)`\n",
      "  df['Attrition_Flag'] = df['Attrition_Flag'].replace(attrition_flag)\n",
      "/var/folders/cs/qccyz2cd7436ltgztlddjwlm0000gn/T/ipykernel_23684/1647084552.py:20: FutureWarning: Downcasting behavior in `replace` is deprecated and will be removed in a future version. To retain the old behavior, explicitly call `result.infer_objects(copy=False)`. To opt-in to the future behavior, set `pd.set_option('future.no_silent_downcasting', True)`\n",
      "  df['Gender'] = df['Gender'].replace(gender)\n",
      "/var/folders/cs/qccyz2cd7436ltgztlddjwlm0000gn/T/ipykernel_23684/1647084552.py:23: FutureWarning: Downcasting behavior in `replace` is deprecated and will be removed in a future version. To retain the old behavior, explicitly call `result.infer_objects(copy=False)`. To opt-in to the future behavior, set `pd.set_option('future.no_silent_downcasting', True)`\n",
      "  df['Card_Category'] = df['Card_Category'].replace(card_category)\n"
     ]
    }
   ],
   "source": [
    "education_level = {\n",
    "    'Uneducated':0, 'High School':1, 'College':2, 'Graduate':3,\n",
    "    'Post-Graduate':4, 'Doctorate':5, 'Unknown':6\n",
    "    }\n",
    "df['Education_Level'] = df['Education_Level'].replace(education_level)\n",
    "\n",
    "marital_status = {'Single':0, 'Married':1, 'Divorced':2, 'Unknown':3}\n",
    "df['Marital_Status'] = df['Marital_Status'].replace(marital_status)\n",
    "\n",
    "income_category = {\n",
    "    'Less than $40K': 0, '$40K - $60K': 1, '$60K - $80K': 2,\n",
    "    '$80K - $120K': 3, '$120K +': 4, 'Unknown': 5\n",
    "    }\n",
    "df['Income_Category'] = df['Income_Category'].replace(income_category)\n",
    "\n",
    "attrition_flag = {'Existing Customer': 0, 'Attrited Customer': 1}\n",
    "df['Attrition_Flag'] = df['Attrition_Flag'].replace(attrition_flag)\n",
    "\n",
    "gender = {'F': 0, 'M': 1}\n",
    "df['Gender'] = df['Gender'].replace(gender)\n",
    "\n",
    "card_category = {'Blue': 0, 'Silver': 1, 'Gold': 2, 'Platinum': 3}\n",
    "df['Card_Category'] = df['Card_Category'].replace(card_category)"
   ]
  },
  {
   "cell_type": "markdown",
   "metadata": {},
   "source": [
    "# 3. Data Preprocessing Pipeline"
   ]
  },
  {
   "cell_type": "markdown",
   "metadata": {},
   "source": [
    "# 4. Prepare Data for Training and Testing"
   ]
  },
  {
   "cell_type": "markdown",
   "metadata": {},
   "source": [
    "### 4.1 Split features and target"
   ]
  },
  {
   "cell_type": "code",
   "execution_count": 99,
   "metadata": {},
   "outputs": [],
   "source": [
    "X = df.drop(['Attrition_Flag'], axis=1)\n",
    "y = df['Attrition_Flag']"
   ]
  },
  {
   "cell_type": "markdown",
   "metadata": {},
   "source": [
    "### 4.2 Handling Imbalanced Data"
   ]
  },
  {
   "cell_type": "code",
   "execution_count": 100,
   "metadata": {},
   "outputs": [],
   "source": [
    "from imblearn.over_sampling import SMOTE"
   ]
  },
  {
   "cell_type": "code",
   "execution_count": 101,
   "metadata": {},
   "outputs": [],
   "source": [
    "X_res, y_res = SMOTE().fit_resample(X, y)"
   ]
  },
  {
   "cell_type": "markdown",
   "metadata": {},
   "source": [
    "### 4.3 Split Data"
   ]
  },
  {
   "cell_type": "code",
   "execution_count": 102,
   "metadata": {},
   "outputs": [],
   "source": [
    "from sklearn.model_selection import train_test_split"
   ]
  },
  {
   "cell_type": "code",
   "execution_count": 103,
   "metadata": {},
   "outputs": [],
   "source": [
    "X_train, X_test, y_train, y_test = train_test_split(X_res, y_res, test_size=0.2, random_state=42)"
   ]
  },
  {
   "cell_type": "markdown",
   "metadata": {},
   "source": [
    "# 5. Model Building"
   ]
  },
  {
   "cell_type": "markdown",
   "metadata": {},
   "source": [
    "### 5.1. Random Forest Classifier"
   ]
  },
  {
   "cell_type": "code",
   "execution_count": 104,
   "metadata": {},
   "outputs": [],
   "source": [
    "from sklearn.ensemble import RandomForestClassifier"
   ]
  },
  {
   "cell_type": "code",
   "execution_count": 106,
   "metadata": {},
   "outputs": [],
   "source": [
    "model = RandomForestClassifier(n_estimators=100, random_state=42)\n",
    "model.fit(X_train, y_train)\n",
    "\n",
    "y_pred = model.predict(X_test)"
   ]
  },
  {
   "cell_type": "markdown",
   "metadata": {},
   "source": [
    "# 6. Model Evaluation"
   ]
  },
  {
   "cell_type": "code",
   "execution_count": null,
   "metadata": {},
   "outputs": [],
   "source": [
    "from sklearn.metrics import accuracy_score, classification_report, confusion_matrix"
   ]
  },
  {
   "cell_type": "code",
   "execution_count": null,
   "metadata": {},
   "outputs": [
    {
     "name": "stdout",
     "output_type": "stream",
     "text": [
      "Accuracy: 0.9615004935834156\n",
      "-----\n",
      "Classification Report:\n",
      "                    precision    recall  f1-score   support\n",
      "\n",
      "Attrited Customer       0.93      0.82      0.87       325\n",
      "Existing Customer       0.97      0.99      0.98      1701\n",
      "\n",
      "         accuracy                           0.96      2026\n",
      "        macro avg       0.95      0.90      0.92      2026\n",
      "     weighted avg       0.96      0.96      0.96      2026\n",
      "\n",
      "-----\n",
      "Confusion Matrix:\n",
      " [[ 266   59]\n",
      " [  19 1682]]\n"
     ]
    }
   ],
   "source": [
    "print(\"Accuracy:\", accuracy_score(y_test, y_pred))\n",
    "print('-----')\n",
    "print(\"Classification Report:\\n\", classification_report(y_test, y_pred))\n",
    "print('-----')\n",
    "print(\"Confusion Matrix:\\n\", confusion_matrix(y_test, y_pred))"
   ]
  },
  {
   "cell_type": "code",
   "execution_count": 107,
   "metadata": {},
   "outputs": [
    {
     "name": "stdout",
     "output_type": "stream",
     "text": [
      "Accuracy: 0.9802941176470589\n",
      "-----\n",
      "Classification Report:\n",
      "               precision    recall  f1-score   support\n",
      "\n",
      "           0       0.99      0.97      0.98      1676\n",
      "           1       0.97      0.99      0.98      1724\n",
      "\n",
      "    accuracy                           0.98      3400\n",
      "   macro avg       0.98      0.98      0.98      3400\n",
      "weighted avg       0.98      0.98      0.98      3400\n",
      "\n",
      "-----\n",
      "Confusion Matrix:\n",
      " [[1626   50]\n",
      " [  17 1707]]\n"
     ]
    }
   ],
   "source": [
    "print(\"Accuracy:\", accuracy_score(y_test, y_pred))\n",
    "print('-----')\n",
    "print(\"Classification Report:\\n\", classification_report(y_test, y_pred))\n",
    "print('-----')\n",
    "print(\"Confusion Matrix:\\n\", confusion_matrix(y_test, y_pred))"
   ]
  },
  {
   "cell_type": "code",
   "execution_count": 110,
   "metadata": {},
   "outputs": [
    {
     "name": "stdout",
     "output_type": "stream",
     "text": [
      "Number of samples with churn probability > 90%: 1319\n"
     ]
    }
   ],
   "source": [
    "import numpy as np\n",
    "y_pred_proba = model.predict_proba(X_test)\n",
    "\n",
    "churn_probabilities = y_pred_proba[:, 1]\n",
    "high_churn_probabilities = churn_probabilities > 0.9\n",
    "num_high_churn_samples = np.sum(high_churn_probabilities)\n",
    "print(\"Number of samples with churn probability > 90%:\", num_high_churn_samples)"
   ]
  }
 ],
 "metadata": {
  "kernelspec": {
   "display_name": "venv",
   "language": "python",
   "name": "python3"
  },
  "language_info": {
   "codemirror_mode": {
    "name": "ipython",
    "version": 3
   },
   "file_extension": ".py",
   "mimetype": "text/x-python",
   "name": "python",
   "nbconvert_exporter": "python",
   "pygments_lexer": "ipython3",
   "version": "3.12.1"
  }
 },
 "nbformat": 4,
 "nbformat_minor": 2
}
